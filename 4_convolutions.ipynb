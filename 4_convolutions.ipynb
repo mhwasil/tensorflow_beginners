{
 "cells": [
  {
   "cell_type": "markdown",
   "metadata": {
    "colab_type": "text",
    "id": "4embtkV0pNxM"
   },
   "source": [
    "Deep Learning\n",
    "=============\n",
    "\n",
    "Assignment 4\n",
    "------------\n",
    "\n",
    "Previously in `2_fullyconnected.ipynb` and `3_regularization.ipynb`, we trained fully connected networks to classify [notMNIST](http://yaroslavvb.blogspot.com/2011/09/notmnist-dataset.html) characters.\n",
    "\n",
    "The goal of this assignment is make the neural network convolutional."
   ]
  },
  {
   "cell_type": "markdown",
   "metadata": {
    "colab_type": "text",
    "id": "EZMINUWZxkEA"
   },
   "source": [
    "**Load pickle file from google drive**\n",
    "If you use Google colab to run this (which is faster as they have better GPU there), run this and upload your pickle file to google file and replace the id"
   ]
  },
  {
   "cell_type": "code",
   "execution_count": 0,
   "metadata": {
    "colab": {
     "autoexec": {
      "startup": false,
      "wait_interval": 0
     }
    },
    "colab_type": "code",
    "id": "zLQBHqnnxevD"
   },
   "outputs": [],
   "source": [
    "!pip install PyDrive\n",
    "\n",
    "import os\n",
    "from pydrive.auth import GoogleAuth\n",
    "from pydrive.drive import GoogleDrive\n",
    "from google.colab import auth\n",
    "from oauth2client.client import GoogleCredentials"
   ]
  },
  {
   "cell_type": "code",
   "execution_count": 0,
   "metadata": {
    "colab": {
     "autoexec": {
      "startup": false,
      "wait_interval": 0
     }
    },
    "colab_type": "code",
    "id": "T5ewdxlUxeyh"
   },
   "outputs": [],
   "source": [
    "auth.authenticate_user()\n",
    "gauth = GoogleAuth()\n",
    "gauth.credentials = GoogleCredentials.get_application_default()\n",
    "drive = GoogleDrive(gauth)"
   ]
  },
  {
   "cell_type": "code",
   "execution_count": 0,
   "metadata": {
    "colab": {
     "autoexec": {
      "startup": false,
      "wait_interval": 0
     }
    },
    "colab_type": "code",
    "id": "hiaeir56xhUy"
   },
   "outputs": [],
   "source": [
    "# load the pickle and rename it to \"notMNIST_dataset.pickle\", replace this id with your pickle id\n",
    "download = drive.CreateFile({'id': '1U3GGYjT5tlxjmqBTwNClU_DmiSaiubWD'})\n",
    "download.GetContentFile('notMNIST_dataset.pickle')"
   ]
  },
  {
   "cell_type": "code",
   "execution_count": 0,
   "metadata": {
    "colab": {
     "autoexec": {
      "startup": false,
      "wait_interval": 0
     }
    },
    "colab_type": "code",
    "id": "-EteidchxhYQ"
   },
   "outputs": [],
   "source": []
  },
  {
   "cell_type": "code",
   "execution_count": 0,
   "metadata": {
    "colab": {
     "autoexec": {
      "startup": false,
      "wait_interval": 0
     }
    },
    "colab_type": "code",
    "id": "WkC5CM8WxobN"
   },
   "outputs": [],
   "source": []
  },
  {
   "cell_type": "markdown",
   "metadata": {
    "colab_type": "text",
    "id": "x3VcwcL1xpJo"
   },
   "source": [
    "**Prepare dataset**"
   ]
  },
  {
   "cell_type": "code",
   "execution_count": 1,
   "metadata": {
    "cellView": "both",
    "colab": {
     "autoexec": {
      "startup": false,
      "wait_interval": 0
     }
    },
    "colab_type": "code",
    "id": "tm2CQN_Cpwj0"
   },
   "outputs": [],
   "source": [
    "# These are all the modules we'll be using later. Make sure you can import them\n",
    "# before proceeding further.\n",
    "from __future__ import print_function\n",
    "import numpy as np\n",
    "import tensorflow as tf\n",
    "from six.moves import cPickle as pickle\n",
    "from six.moves import range\n",
    "import matplotlib.pyplot as plt\n",
    "%matplotlib inline"
   ]
  },
  {
   "cell_type": "markdown",
   "metadata": {
    "colab_type": "text",
    "id": "iLFYfZMF7ZPE"
   },
   "source": [
    "Load the downloaded pickle file"
   ]
  },
  {
   "cell_type": "code",
   "execution_count": 2,
   "metadata": {
    "cellView": "both",
    "colab": {
     "autoexec": {
      "startup": false,
      "wait_interval": 0
     },
     "base_uri": "https://localhost:8080/",
     "height": 71
    },
    "colab_type": "code",
    "executionInfo": {
     "elapsed": 2753,
     "status": "ok",
     "timestamp": 1533553749795,
     "user": {
      "displayName": "Mohammad Wasil",
      "photoUrl": "//lh5.googleusercontent.com/-JLhvywYz9ws/AAAAAAAAAAI/AAAAAAAAGAI/Qh1Tzhjb9Kw/s50-c-k-no/photo.jpg",
      "userId": "100717550650637687476"
     },
     "user_tz": -120
    },
    "id": "y3-cj1bpmuxc",
    "outputId": "9c4ea232-4782-45e6-a11c-67790887efe4"
   },
   "outputs": [
    {
     "name": "stdout",
     "output_type": "stream",
     "text": [
      "Training set (423260, 28, 28) (423260,)\n",
      "Validation set (105820, 28, 28) (105820,)\n",
      "Test set (18724, 28, 28) (18724,)\n"
     ]
    }
   ],
   "source": [
    "pickle_file = 'notMNIST_dataset.pickle'\n",
    "\n",
    "with open(pickle_file, 'rb') as f:\n",
    "    save = pickle.load(f)\n",
    "    train_dataset = save['train_dataset']\n",
    "    train_labels = save['train_labels']\n",
    "    valid_dataset = save['valid_dataset']\n",
    "    valid_labels = save['valid_labels']\n",
    "    test_dataset = save['test_dataset']\n",
    "    test_labels = save['test_labels']\n",
    "    del save  # hint to help gc free up memory\n",
    "    print('Training set', train_dataset.shape, train_labels.shape)\n",
    "    print('Validation set', valid_dataset.shape, valid_labels.shape)\n",
    "    print('Test set', test_dataset.shape, test_labels.shape)"
   ]
  },
  {
   "cell_type": "code",
   "execution_count": 0,
   "metadata": {
    "colab": {
     "autoexec": {
      "startup": false,
      "wait_interval": 0
     }
    },
    "colab_type": "code",
    "id": "7BhGgJ49xyIm"
   },
   "outputs": [],
   "source": []
  },
  {
   "cell_type": "markdown",
   "metadata": {
    "colab_type": "text",
    "id": "L7aHrm6nGDMB"
   },
   "source": [
    "Reformat into a TensorFlow-friendly shape:\n",
    "- convolutions need the image data formatted as a cube (width by height by #channels)\n",
    "- labels as float 1-hot encodings."
   ]
  },
  {
   "cell_type": "code",
   "execution_count": 4,
   "metadata": {
    "cellView": "both",
    "colab": {
     "autoexec": {
      "startup": false,
      "wait_interval": 0
     },
     "base_uri": "https://localhost:8080/",
     "height": 71
    },
    "colab_type": "code",
    "executionInfo": {
     "elapsed": 1739,
     "status": "ok",
     "timestamp": 1533553752352,
     "user": {
      "displayName": "Mohammad Wasil",
      "photoUrl": "//lh5.googleusercontent.com/-JLhvywYz9ws/AAAAAAAAAAI/AAAAAAAAGAI/Qh1Tzhjb9Kw/s50-c-k-no/photo.jpg",
      "userId": "100717550650637687476"
     },
     "user_tz": -120
    },
    "id": "IRSyYiIIGIzS",
    "outputId": "f600401a-34c9-4b75-b131-6e464b450448"
   },
   "outputs": [
    {
     "name": "stdout",
     "output_type": "stream",
     "text": [
      "Training set (423260, 28, 28, 1) (423260, 10)\n",
      "Validation set (105820, 28, 28, 1) (105820, 10)\n",
      "Test set (18724, 28, 28, 1) (18724, 10)\n"
     ]
    }
   ],
   "source": [
    "image_size = 28\n",
    "num_labels = 10\n",
    "num_channels = 1 # grayscale\n",
    "\n",
    "def reformat(dataset, labels):\n",
    "    dataset = dataset.reshape((-1, image_size, image_size, num_channels)).astype(np.float32)\n",
    "    labels = (np.arange(num_labels) == labels[:,None]).astype(np.float32)\n",
    "    return dataset, labels\n",
    "\n",
    "train_dataset, train_labels = reformat(train_dataset, train_labels)\n",
    "valid_dataset, valid_labels = reformat(valid_dataset, valid_labels)\n",
    "test_dataset, test_labels = reformat(test_dataset, test_labels)\n",
    "print('Training set', train_dataset.shape, train_labels.shape)\n",
    "print('Validation set', valid_dataset.shape, valid_labels.shape)\n",
    "print('Test set', test_dataset.shape, test_labels.shape)"
   ]
  },
  {
   "cell_type": "code",
   "execution_count": 0,
   "metadata": {
    "cellView": "both",
    "colab": {
     "autoexec": {
      "startup": false,
      "wait_interval": 0
     }
    },
    "colab_type": "code",
    "id": "AgQDIREv02p1"
   },
   "outputs": [],
   "source": [
    "def accuracy(predictions, labels):\n",
    "    return (100.0 * np.sum(np.argmax(predictions, 1) == np.argmax(labels, 1)) / predictions.shape[0])"
   ]
  },
  {
   "cell_type": "code",
   "execution_count": 0,
   "metadata": {
    "colab": {
     "autoexec": {
      "startup": false,
      "wait_interval": 0
     }
    },
    "colab_type": "code",
    "id": "Yim02JJruJEb"
   },
   "outputs": [],
   "source": [
    "def plot_acc(x, step_list, labels, y_label=\"Accuracy\"):\n",
    "    fig = plt.figure()\n",
    "    ax = fig.add_subplot(111)\n",
    "    for data, label in zip(x, labels):\n",
    "        ax.plot(step_list, data, label = label)\n",
    "    ax.set_ylabel(y_label)\n",
    "    ax.set_xlabel(\"Step\")\n",
    "    ax.grid(True)\n",
    "    \n",
    "    if y_label==\"Accuracy\":\n",
    "        major_ticks = np.arange(0, 101, 5)\n",
    "        minor_ticks = np.arange(0, 101, 5)\n",
    "        ax.set_yticks(major_ticks)\n",
    "        ax.set_yticks(minor_ticks, minor=True)\n",
    "        ax.grid(which='major', alpha=0.9)\n",
    "\n",
    "    plt.legend()\n",
    "    plt.show()"
   ]
  },
  {
   "cell_type": "markdown",
   "metadata": {
    "colab_type": "text",
    "id": "5rhgjmROXu2O"
   },
   "source": [
    "Let's build a small network with two convolutional layers, followed by one fully connected layer. Convolutional networks are more expensive computationally, so we'll limit its depth and number of fully connected nodes."
   ]
  },
  {
   "cell_type": "code",
   "execution_count": 0,
   "metadata": {
    "cellView": "both",
    "colab": {
     "autoexec": {
      "startup": false,
      "wait_interval": 0
     }
    },
    "colab_type": "code",
    "id": "IZYv70SvvOan"
   },
   "outputs": [],
   "source": [
    "batch_size = 16\n",
    "patch_size = 5\n",
    "depth = 16\n",
    "num_hidden = 64\n",
    "\n",
    "graph = tf.Graph()\n",
    "\n",
    "with graph.as_default():\n",
    "\n",
    "    # Input data.\n",
    "    tf_train_dataset = tf.placeholder(tf.float32, shape=(batch_size, image_size, image_size, num_channels))\n",
    "    tf_train_labels = tf.placeholder(tf.float32, shape=(batch_size, num_labels))\n",
    "    tf_valid_dataset = tf.constant(valid_dataset)\n",
    "    tf_test_dataset = tf.constant(test_dataset)\n",
    "\n",
    "    # Variables.\n",
    "    layer1_weights = tf.Variable(tf.truncated_normal([patch_size, patch_size, num_channels, depth], stddev=0.1))\n",
    "    layer1_biases = tf.Variable(tf.zeros([depth]))\n",
    "\n",
    "    layer2_weights = tf.Variable(tf.truncated_normal([patch_size, patch_size, depth, depth], stddev=0.1))\n",
    "    layer2_biases = tf.Variable(tf.constant(1.0, shape=[depth]))\n",
    "\n",
    "    layer3_weights = tf.Variable(tf.truncated_normal([image_size // 4 * image_size // 4 * depth, num_hidden], stddev=0.1))\n",
    "    layer3_biases = tf.Variable(tf.constant(1.0, shape=[num_hidden]))\n",
    "\n",
    "    layer4_weights = tf.Variable(tf.truncated_normal([num_hidden, num_labels], stddev=0.1))\n",
    "    layer4_biases = tf.Variable(tf.constant(1.0, shape=[num_labels]))\n",
    "  \n",
    "    # Model.\n",
    "    def model(data):\n",
    "        conv = tf.nn.conv2d(data, layer1_weights, [1, 2, 2, 1], padding='SAME')\n",
    "        hidden = tf.nn.relu(conv + layer1_biases)\n",
    "        \n",
    "        conv = tf.nn.conv2d(hidden, layer2_weights, [1, 2, 2, 1], padding='SAME')\n",
    "        hidden = tf.nn.relu(conv + layer2_biases)\n",
    "        \n",
    "        shape = hidden.get_shape().as_list()\n",
    "        reshape = tf.reshape(hidden, [shape[0], shape[1] * shape[2] * shape[3]])\n",
    "        hidden = tf.nn.relu(tf.matmul(reshape, layer3_weights) + layer3_biases)\n",
    "        return tf.matmul(hidden, layer4_weights) + layer4_biases\n",
    "  \n",
    "    # Training computation.\n",
    "    logits = model(tf_train_dataset)\n",
    "    loss = tf.reduce_mean(tf.nn.softmax_cross_entropy_with_logits(labels=tf_train_labels, logits=logits))\n",
    "\n",
    "    # Optimizer.\n",
    "    optimizer = tf.train.GradientDescentOptimizer(0.05).minimize(loss)\n",
    "\n",
    "    # Predictions for the training, validation, and test data.\n",
    "    train_prediction = tf.nn.softmax(logits)\n",
    "    valid_prediction = tf.nn.softmax(model(tf_valid_dataset))\n",
    "    test_prediction = tf.nn.softmax(model(tf_test_dataset))"
   ]
  },
  {
   "cell_type": "code",
   "execution_count": 46,
   "metadata": {
    "cellView": "both",
    "colab": {
     "autoexec": {
      "startup": false,
      "wait_interval": 0
     },
     "base_uri": "https://localhost:8080/",
     "height": 773
    },
    "colab_type": "code",
    "executionInfo": {
     "elapsed": 19471,
     "status": "ok",
     "timestamp": 1533552300532,
     "user": {
      "displayName": "Mohammad Wasil",
      "photoUrl": "//lh5.googleusercontent.com/-JLhvywYz9ws/AAAAAAAAAAI/AAAAAAAAGAI/Qh1Tzhjb9Kw/s50-c-k-no/photo.jpg",
      "userId": "100717550650637687476"
     },
     "user_tz": -120
    },
    "id": "noKFb2UovVFR",
    "outputId": "b20f9604-c6f0-464c-ab26-f080f601ddd1"
   },
   "outputs": [
    {
     "name": "stdout",
     "output_type": "stream",
     "text": [
      "Initialized\n",
      "Minibatch loss at step 0: 3.773093\n",
      "Minibatch loss at step 200: 0.815871\n",
      "Minibatch loss at step 400: 0.632178\n",
      "Minibatch loss at step 600: 0.443651\n",
      "Minibatch loss at step 800: 0.512244\n",
      "Minibatch loss at step 1000: 0.506737\n",
      "Minibatch loss at step 1200: 0.331602\n",
      "Minibatch loss at step 1400: 0.874018\n",
      "Minibatch loss at step 1600: 0.564640\n",
      "Minibatch loss at step 1800: 0.427369\n",
      "Minibatch loss at step 2000: 0.252417\n",
      "Test accuracy: 92.0%\n"
     ]
    },
    {
     "data": {
      "image/png": "[encoded data removed]",
      "text/plain": [
       "<matplotlib.figure.Figure at 0x7f4cb8ea9a20>"
      ]
     },
     "metadata": {
      "tags": []
     },
     "output_type": "display_data"
    },
    {
     "data": {
      "image/png": "[encoded data removed]",
      "text/plain": [
       "<matplotlib.figure.Figure at 0x7f4cb8ea95f8>"
      ]
     },
     "metadata": {
      "tags": []
     },
     "output_type": "display_data"
    }
   ],
   "source": [
    "num_steps = 2001\n",
    "\n",
    "mini_batch_loss_list = []\n",
    "mini_batch_acc = []\n",
    "valid_acc = []\n",
    "test_acc = []\n",
    "step_list = []\n",
    "loss_list = []\n",
    "\n",
    "with tf.Session(graph=graph) as session:\n",
    "    tf.global_variables_initializer().run()\n",
    "    print('Initialized')\n",
    "    for step in range(num_steps):\n",
    "        offset = (step * batch_size) % (train_labels.shape[0] - batch_size)\n",
    "        batch_data = train_dataset[offset:(offset + batch_size), :, :, :]\n",
    "        batch_labels = train_labels[offset:(offset + batch_size), :]\n",
    "        feed_dict = {tf_train_dataset : batch_data, tf_train_labels : batch_labels}\n",
    "        _, l, predictions = session.run(\n",
    "          [optimizer, loss, train_prediction], feed_dict=feed_dict)\n",
    "        if (step % 100 == 0):\n",
    "            loss_list.append(l)\n",
    "            mini_batch_acc.append(accuracy(predictions, batch_labels))\n",
    "            valid_acc.append(accuracy(valid_prediction.eval(), valid_labels))\n",
    "            test_acc.append(accuracy(test_prediction.eval(), test_labels))\n",
    "            step_list.append(step)\n",
    "        if (step % 200 == 0):\n",
    "            print('Minibatch loss at step %d: %f' % (step, l))\n",
    "            #print('Minibatch accuracy: %.1f%%' % accuracy(\n",
    "            #    predictions, batch_labels))\n",
    "            #print('Validation accuracy: %.1f%%' % accuracy(\n",
    "            #    valid_prediction.eval(), valid_labels))\n",
    "    print('Test accuracy: %.1f%%' % accuracy(\n",
    "           test_prediction.eval(), test_labels))\n",
    "plot_acc([mini_batch_acc, valid_acc, test_acc], step_list, \n",
    "         ['Mini batch accuracy', 'Validation accuracy', 'Test accuracy'])\n",
    "plot_acc([loss_list], step_list, ['Loss'], y_label=\"Loss\")"
   ]
  },
  {
   "cell_type": "markdown",
   "metadata": {
    "colab_type": "text",
    "id": "KedKkn4EutIK"
   },
   "source": [
    "---\n",
    "Problem 1\n",
    "---------\n",
    "\n",
    "The convolutional model above uses convolutions with stride 2 to reduce the dimensionality. Replace the strides by a max pooling operation (`nn.max_pool()`) of stride 2 and kernel size 2.\n",
    "\n",
    "---"
   ]
  },
  {
   "cell_type": "code",
   "execution_count": 0,
   "metadata": {
    "colab": {
     "autoexec": {
      "startup": false,
      "wait_interval": 0
     }
    },
    "colab_type": "code",
    "id": "DWePLEhESJZk"
   },
   "outputs": [],
   "source": [
    "batch_size = 16\n",
    "patch_size = 5\n",
    "depth = 16\n",
    "num_hidden = 64\n",
    "\n",
    "graph = tf.Graph()\n",
    "\n",
    "with graph.as_default():\n",
    "\n",
    "    # Input data.\n",
    "    tf_train_dataset = tf.placeholder(\n",
    "          tf.float32, shape=(batch_size, image_size, image_size, num_channels))\n",
    "    tf_train_labels = tf.placeholder(\n",
    "          tf.float32, shape=(batch_size, num_labels))\n",
    "    tf_valid_dataset = tf.constant(valid_dataset)\n",
    "    tf_test_dataset = tf.constant(test_dataset)\n",
    "\n",
    "    # Variables.\n",
    "    layer1_weights = tf.Variable(tf.truncated_normal\n",
    "         ([patch_size, patch_size, num_channels, depth], stddev=0.1))\n",
    "    layer1_biases = tf.Variable(tf.zeros([depth]))\n",
    "\n",
    "    layer2_weights = tf.Variable(tf.truncated_normal\n",
    "         ([patch_size, patch_size, depth, depth], stddev=0.1))\n",
    "    layer2_biases = tf.Variable(tf.constant(1.0, shape=[depth]))\n",
    "\n",
    "    layer3_weights = tf.Variable(tf.truncated_normal\n",
    "         ([image_size // 4 * image_size // 4 * depth, num_hidden], stddev=0.1))\n",
    "    layer3_biases = tf.Variable(tf.constant(1.0, shape=[num_hidden]))\n",
    "\n",
    "    layer4_weights = tf.Variable(tf.truncated_normal([num_hidden, num_labels], stddev=0.1))\n",
    "    layer4_biases = tf.Variable(tf.constant(1.0, shape=[num_labels]))\n",
    "    \n",
    "    # MaxPool2D wrapper\n",
    "    def maxpool2d(data, k=2):\n",
    "        return tf.nn.max_pool(data, ksize=[1,k,k,1], strides=[1,k,k,1],\n",
    "                             padding='SAME')\n",
    "    # Model.\n",
    "    def model(data):\n",
    "        conv1 = tf.nn.conv2d(\n",
    "                data, layer1_weights, [1, 1, 1, 1], padding='SAME')\n",
    "        hidden1 = tf.nn.relu(conv1 + layer1_biases)\n",
    "        max_pool1 = maxpool2d(hidden1, k=2)\n",
    "        \n",
    "        conv2 = tf.nn.conv2d(\n",
    "                max_pool1, layer2_weights, [1, 1, 1, 1], padding='SAME')\n",
    "        hidden2 = tf.nn.relu(conv2 + layer2_biases)\n",
    "        max_pool2 = maxpool2d(hidden2, k=2)\n",
    "        \n",
    "        shape = max_pool2.get_shape().as_list()\n",
    "        reshape = tf.reshape(\n",
    "                    max_pool2, [shape[0], shape[1] * shape[2] * shape[3]])\n",
    "        hidden = tf.nn.relu(\n",
    "                tf.matmul(reshape, layer3_weights) + layer3_biases)\n",
    "        \n",
    "        return tf.matmul(hidden, layer4_weights) + layer4_biases\n",
    "    \n",
    "  \n",
    "    \n",
    "    # Training computation.\n",
    "    logits = model(tf_train_dataset)\n",
    "    loss = tf.reduce_mean(\n",
    "        tf.nn.softmax_cross_entropy_with_logits(labels=tf_train_labels, logits=logits))\n",
    "\n",
    "    # Optimizer.\n",
    "    optimizer = tf.train.GradientDescentOptimizer(0.05).minimize(loss)\n",
    "\n",
    "    # Predictions for the training, validation, and test data.\n",
    "    train_prediction = tf.nn.softmax(logits)\n",
    "    valid_prediction = tf.nn.softmax(model(tf_valid_dataset))\n",
    "    test_prediction = tf.nn.softmax(model(tf_test_dataset))"
   ]
  },
  {
   "cell_type": "code",
   "execution_count": 48,
   "metadata": {
    "colab": {
     "autoexec": {
      "startup": false,
      "wait_interval": 0
     },
     "base_uri": "https://localhost:8080/",
     "height": 773
    },
    "colab_type": "code",
    "executionInfo": {
     "elapsed": 12398,
     "status": "ok",
     "timestamp": 1533552334246,
     "user": {
      "displayName": "Mohammad Wasil",
      "photoUrl": "//lh5.googleusercontent.com/-JLhvywYz9ws/AAAAAAAAAAI/AAAAAAAAGAI/Qh1Tzhjb9Kw/s50-c-k-no/photo.jpg",
      "userId": "100717550650637687476"
     },
     "user_tz": -120
    },
    "id": "wxJjcPiOSJj1",
    "outputId": "42579d68-e39a-4614-81ef-3257981a883f"
   },
   "outputs": [
    {
     "name": "stdout",
     "output_type": "stream",
     "text": [
      "Initialized\n",
      "Minibatch loss at step 0: 3.494331\n",
      "Minibatch loss at step 200: 0.696901\n",
      "Minibatch loss at step 400: 0.495640\n",
      "Minibatch loss at step 600: 0.425410\n",
      "Minibatch loss at step 800: 0.760195\n",
      "Minibatch loss at step 1000: 0.306992\n",
      "Minibatch loss at step 1200: 0.205122\n",
      "Minibatch loss at step 1400: 0.689365\n",
      "Minibatch loss at step 1600: 0.582382\n",
      "Minibatch loss at step 1800: 0.322708\n",
      "Minibatch loss at step 2000: 0.250403\n",
      "Test accuracy: 92.6%\n"
     ]
    },
    {
     "data": {
      "image/png": "[encoded data removed]",
      "text/plain": [
       "<matplotlib.figure.Figure at 0x7f4cb8c6ed68>"
      ]
     },
     "metadata": {
      "tags": []
     },
     "output_type": "display_data"
    },
    {
     "data": {
      "image/png": "[encoded data removed]",
      "text/plain": [
       "<matplotlib.figure.Figure at 0x7f4cb8c6e5f8>"
      ]
     },
     "metadata": {
      "tags": []
     },
     "output_type": "display_data"
    }
   ],
   "source": [
    "num_steps = 2001\n",
    "\n",
    "mini_batch_loss_list = []\n",
    "mini_batch_acc = []\n",
    "valid_acc = []\n",
    "test_acc = []\n",
    "step_list = []\n",
    "loss_list = []\n",
    "\n",
    "with tf.Session(graph=graph) as session:\n",
    "    tf.global_variables_initializer().run()\n",
    "    print('Initialized')\n",
    "    for step in range(num_steps):\n",
    "        offset = (step * batch_size) % (train_labels.shape[0] - batch_size)\n",
    "        batch_data = train_dataset[offset:(offset + batch_size), :, :, :]\n",
    "        batch_labels = train_labels[offset:(offset + batch_size), :]\n",
    "        feed_dict = {tf_train_dataset : batch_data, tf_train_labels : batch_labels}\n",
    "        _, l, predictions = session.run(\n",
    "          [optimizer, loss, train_prediction], feed_dict=feed_dict)\n",
    "        if (step % 100 == 0):\n",
    "            loss_list.append(l)\n",
    "            mini_batch_acc.append(accuracy(predictions, batch_labels))\n",
    "            #valid_acc.append(accuracy(valid_prediction.eval(), valid_labels))\n",
    "            test_acc.append(accuracy(test_prediction.eval(), test_labels))\n",
    "            step_list.append(step)\n",
    "        if (step % 200 == 0):\n",
    "            print('Minibatch loss at step %d: %f' % (step, l))\n",
    "            #print('Minibatch accuracy: %.1f%%' % accuracy(\n",
    "            #    predictions, batch_labels))\n",
    "            #print('Validation accuracy: %.1f%%' % accuracy(\n",
    "            #    valid_prediction.eval(), valid_labels))\n",
    "    print('Test accuracy: %.1f%%' % accuracy(\n",
    "           test_prediction.eval(), test_labels))\n",
    "plot_acc([mini_batch_acc, test_acc], step_list, \n",
    "         ['Mini batch accuracy', 'test accuracy'])\n",
    "plot_acc([loss_list], step_list, ['Loss'], y_label=\"Loss\")"
   ]
  },
  {
   "cell_type": "code",
   "execution_count": 10,
   "metadata": {
    "colab": {
     "autoexec": {
      "startup": false,
      "wait_interval": 0
     },
     "base_uri": "https://localhost:8080/",
     "height": 35
    },
    "colab_type": "code",
    "executionInfo": {
     "elapsed": 478,
     "status": "ok",
     "timestamp": 1533546798763,
     "user": {
      "displayName": "Mohammad Wasil",
      "photoUrl": "//lh5.googleusercontent.com/-JLhvywYz9ws/AAAAAAAAAAI/AAAAAAAAGAI/Qh1Tzhjb9Kw/s50-c-k-no/photo.jpg",
      "userId": "100717550650637687476"
     },
     "user_tz": -120
    },
    "id": "97IwpJgvSJmy",
    "outputId": "e0750235-a8c2-45e2-d4e4-0ffe92dce9f4"
   },
   "outputs": [
    {
     "data": {
      "text/plain": [
       "<tf.Tensor 'Softmax_1:0' shape=(105820, 10) dtype=float32>"
      ]
     },
     "execution_count": 10,
     "metadata": {
      "tags": []
     },
     "output_type": "execute_result"
    }
   ],
   "source": []
  },
  {
   "cell_type": "markdown",
   "metadata": {
    "colab_type": "text",
    "id": "klf21gpbAgb-"
   },
   "source": [
    "---\n",
    "Problem 2\n",
    "---------\n",
    "\n",
    "Try to get the best performance you can using a convolutional net. Look for example at the classic [LeNet5](http://yann.lecun.com/exdb/lenet/) architecture, adding Dropout, and/or adding learning rate decay.\n",
    "\n",
    "---"
   ]
  },
  {
   "cell_type": "markdown",
   "metadata": {
    "colab_type": "text",
    "id": "H6ejO5gNksxa"
   },
   "source": [
    "LeNet5-inspired architecture"
   ]
  },
  {
   "cell_type": "code",
   "execution_count": 0,
   "metadata": {
    "colab": {
     "autoexec": {
      "startup": false,
      "wait_interval": 0
     }
    },
    "colab_type": "code",
    "id": "glPIAxtZkpl3"
   },
   "outputs": [],
   "source": [
    "batch_size = 16\n",
    "patch_size = 5\n",
    "depth = 16\n",
    "num_hidden = 64\n",
    "\n",
    "dropout_prob =0.45\n",
    "\n",
    "graph = tf.Graph()\n",
    "\n",
    "with graph.as_default():\n",
    "\n",
    "    # Input data.\n",
    "    tf_train_dataset = tf.placeholder(\n",
    "          tf.float32, shape=(batch_size, image_size, image_size, num_channels))\n",
    "    tf_train_labels = tf.placeholder(\n",
    "          tf.float32, shape=(batch_size, num_labels))\n",
    "    tf_valid_dataset = tf.constant(valid_dataset)\n",
    "    tf_test_dataset = tf.constant(test_dataset)\n",
    "\n",
    "    # Variables.\n",
    "    layer1_weights = tf.Variable(tf.truncated_normal\n",
    "         ([patch_size, patch_size, num_channels, depth], stddev=0.1))\n",
    "    layer1_biases = tf.Variable(tf.zeros([depth]))\n",
    "\n",
    "    layer2_weights = tf.Variable(tf.truncated_normal\n",
    "         ([patch_size, patch_size, depth, depth], stddev=0.1))\n",
    "    layer2_biases = tf.Variable(tf.constant(1.0, shape=[depth]))\n",
    "\n",
    "    size3 = ((image_size - patch_size + 1) // 2 - patch_size + 1) // 2\n",
    "    layer3_weights = tf.Variable(tf.truncated_normal(\n",
    "      [size3 * size3 * depth, num_hidden], stddev=0.1))\n",
    "    layer3_biases = tf.Variable(tf.constant(1.0, shape=[num_hidden]))\n",
    "    \n",
    "    layer4_weights = tf.Variable(tf.truncated_normal([num_hidden, num_labels], stddev=0.1))\n",
    "    layer4_biases = tf.Variable(tf.constant(1.0, shape=[num_labels]))\n",
    "    \n",
    "    # Add dropout\n",
    "    #dropout_prob = tf.placeholder(\"float\")\n",
    "    \n",
    "    # Pool wrapper\n",
    "    # 0 = max_pool and 1 = avg_pool\n",
    "    def pooling(data, pool_type=0, k=2, padding_type='SAME'):\n",
    "        if pool_type == 0:\n",
    "            return tf.nn.max_pool(data, ksize=[1,k,k,1], strides=[1,k,k,1],\n",
    "                             padding=padding_type)\n",
    "        elif pool_type == 1:\n",
    "            return tf.nn.avg_pool(data, ksize=[1,k,k,1], strides=[1,k,k,1],\n",
    "                             padding=padding_type)\n",
    "    # Model.\n",
    "    def model(data, dropout_prob):\n",
    "        # C1 input 28x28 (Conv 1)\n",
    "        conv1 = tf.nn.conv2d(\n",
    "                data, layer1_weights, [1, 1, 1, 1], padding='VALID')\n",
    "        hidden1 = tf.nn.relu(conv1 + layer1_biases)\n",
    "        \n",
    "        # S2 input 24x24 (Subsampling 1)\n",
    "        pool1 = pooling(hidden1, 1, 2, 'VALID')\n",
    "        \n",
    "        # C3 input 12x12 (Conv 3)\n",
    "        conv3 = tf.nn.conv2d(\n",
    "                pool1, layer2_weights, [1, 1, 1, 1], padding='VALID')\n",
    "        hidden3 = tf.nn.relu(conv3 + layer2_biases)\n",
    "\n",
    "        # S4 input 8x8 (Subsampling 4)\n",
    "        pool4 = pooling(hidden3, 1, 2, 'VALID')\n",
    "        \n",
    "       \n",
    "        shape = pool4.get_shape().as_list()\n",
    "        pool4_reshape = tf.reshape(\n",
    "                    pool4, [shape[0], shape[1] * shape[2] * shape[3]])\n",
    "        # C5\n",
    "        hidden5 = tf.nn.relu(\n",
    "                tf.matmul(pool4_reshape, layer3_weights) + layer3_biases)\n",
    "                \n",
    "        # F6\n",
    "        hidden6 = tf.matmul(hidden5, layer4_weights) + layer4_biases\n",
    "        \n",
    "        return hidden6\n",
    "    \n",
    "  \n",
    "    \n",
    "    # Training computation.\n",
    "    logits = model(tf_train_dataset, dropout_prob)\n",
    "    loss = tf.reduce_mean(\n",
    "        tf.nn.softmax_cross_entropy_with_logits(labels=tf_train_labels, logits=logits))\n",
    "\n",
    "    # Optimizer.\n",
    "    optimizer = tf.train.GradientDescentOptimizer(0.05).minimize(loss)\n",
    "\n",
    "    # Predictions for the training, validation, and test data.\n",
    "    train_prediction = tf.nn.softmax(logits)\n",
    "    valid_prediction = tf.nn.softmax(model(tf_valid_dataset, 1.0))\n",
    "    test_prediction = tf.nn.softmax(model(tf_test_dataset, 1.0))"
   ]
  },
  {
   "cell_type": "code",
   "execution_count": 12,
   "metadata": {
    "colab": {
     "autoexec": {
      "startup": false,
      "wait_interval": 0
     },
     "base_uri": "https://localhost:8080/",
     "height": 777
    },
    "colab_type": "code",
    "executionInfo": {
     "elapsed": 9733,
     "status": "ok",
     "timestamp": 1533557207684,
     "user": {
      "displayName": "Mohammad Wasil",
      "photoUrl": "//lh5.googleusercontent.com/-JLhvywYz9ws/AAAAAAAAAAI/AAAAAAAAGAI/Qh1Tzhjb9Kw/s50-c-k-no/photo.jpg",
      "userId": "100717550650637687476"
     },
     "user_tz": -120
    },
    "id": "pmOa7bpDkpov",
    "outputId": "c8d2706f-6961-4f2e-9e84-319fa1f8482a"
   },
   "outputs": [
    {
     "name": "stdout",
     "output_type": "stream",
     "text": [
      "Initialized\n",
      "Minibatch loss at step 0: 2.922197\n",
      "Minibatch loss at step 200: 1.100657\n",
      "Minibatch loss at step 400: 0.674862\n",
      "Minibatch loss at step 600: 0.611725\n",
      "Minibatch loss at step 800: 1.037885\n",
      "Minibatch loss at step 1000: 0.575935\n",
      "Minibatch loss at step 1200: 0.329962\n",
      "Minibatch loss at step 1400: 1.097862\n",
      "Minibatch loss at step 1600: 0.577014\n",
      "Minibatch loss at step 1800: 0.447547\n",
      "Minibatch loss at step 2000: 0.332841\n",
      "Test accuracy: 91.2%\n"
     ]
    },
    {
     "data": {
      "image/png": "[encoded data removed]",
      "text/plain": [
       "<matplotlib.figure.Figure at 0x7fc1d56ba390>"
      ]
     },
     "metadata": {
      "tags": []
     },
     "output_type": "display_data"
    },
    {
     "data": {
      "image/png": "[encoded data removed]",
      "text/plain": [
       "<matplotlib.figure.Figure at 0x7fc1d56ba198>"
      ]
     },
     "metadata": {
      "tags": []
     },
     "output_type": "display_data"
    }
   ],
   "source": [
    "num_steps = 2001\n",
    "\n",
    "mini_batch_loss_list = []\n",
    "mini_batch_acc = []\n",
    "valid_acc = []\n",
    "test_acc = []\n",
    "step_list = []\n",
    "loss_list = []\n",
    "\n",
    "with tf.Session(graph=graph) as session:\n",
    "    tf.global_variables_initializer().run()\n",
    "    print('Initialized')\n",
    "    for step in range(num_steps):\n",
    "        offset = (step * batch_size) % (train_labels.shape[0] - batch_size)\n",
    "        batch_data = train_dataset[offset:(offset + batch_size), :, :, :]\n",
    "        batch_labels = train_labels[offset:(offset + batch_size), :]\n",
    "        \n",
    "        feed_dict = {tf_train_dataset : batch_data, \n",
    "                     tf_train_labels : batch_labels\n",
    "                    }\n",
    "        \n",
    "        _, l, predictions = session.run(\n",
    "            [optimizer, loss, train_prediction], feed_dict=feed_dict)\n",
    "        \n",
    "        if (step % 100 == 0):\n",
    "            loss_list.append(l)\n",
    "            mini_batch_acc.append(accuracy(predictions, batch_labels))\n",
    "            #valid_acc.append(accuracy(valid_prediction.eval(), valid_labels))\n",
    "            test_acc.append(accuracy(test_prediction.eval(), test_labels))\n",
    "            step_list.append(step)\n",
    "        if (step % 200 == 0):\n",
    "            print('Minibatch loss at step %d: %f' % (step, l))\n",
    "            #print('Minibatch accuracy: %.1f%%' % accuracy(\n",
    "            #    predictions, batch_labels))\n",
    "            #print('Validation accuracy: %.1f%%' % accuracy(\n",
    "            #    valid_prediction.eval(), valid_labels))\n",
    "    print('Test accuracy: %.1f%%' % accuracy(\n",
    "           test_prediction.eval(), test_labels))\n",
    "plot_acc([mini_batch_acc, test_acc], step_list, \n",
    "         ['Mini batch accuracy', 'test accuracy'])\n",
    "plot_acc([loss_list], step_list, ['Loss'], y_label=\"Loss\")"
   ]
  },
  {
   "cell_type": "code",
   "execution_count": 0,
   "metadata": {
    "colab": {
     "autoexec": {
      "startup": false,
      "wait_interval": 0
     }
    },
    "colab_type": "code",
    "id": "rR6rMwQCpV66"
   },
   "outputs": [],
   "source": []
  },
  {
   "cell_type": "markdown",
   "metadata": {
    "colab_type": "text",
    "id": "_WoeT6OHJ9Ta"
   },
   "source": [
    "**LeNet5 with dropout, regularization and learning rate decay**"
   ]
  },
  {
   "cell_type": "code",
   "execution_count": 0,
   "metadata": {
    "colab": {
     "autoexec": {
      "startup": false,
      "wait_interval": 0
     }
    },
    "colab_type": "code",
    "id": "Z5Wn6miPHiky"
   },
   "outputs": [],
   "source": [
    "batch_size = 16\n",
    "patch_size = 5\n",
    "depth = 16\n",
    "num_hidden = 64\n",
    "\n",
    "dropout_prob =0.5\n",
    "beta = 0.001\n",
    "\n",
    "graph = tf.Graph()\n",
    "\n",
    "with graph.as_default():\n",
    "\n",
    "    # Input data.\n",
    "    tf_train_dataset = tf.placeholder(\n",
    "          tf.float32, shape=(batch_size, image_size, image_size, num_channels))\n",
    "    tf_train_labels = tf.placeholder(\n",
    "          tf.float32, shape=(batch_size, num_labels))\n",
    "    tf_valid_dataset = tf.constant(valid_dataset)\n",
    "    tf_test_dataset = tf.constant(test_dataset)\n",
    "\n",
    "    # Variables.\n",
    "    layer1_weights = tf.Variable(tf.truncated_normal\n",
    "         ([patch_size, patch_size, num_channels, depth], stddev=0.1))\n",
    "    layer1_biases = tf.Variable(tf.zeros([depth]))\n",
    "\n",
    "    layer2_weights = tf.Variable(tf.truncated_normal\n",
    "         ([patch_size, patch_size, depth, depth], stddev=0.1))\n",
    "    layer2_biases = tf.Variable(tf.constant(1.0, shape=[depth]))\n",
    "\n",
    "    size3 = ((image_size - patch_size + 1) // 2 - patch_size + 1) // 2\n",
    "    layer3_weights = tf.Variable(tf.truncated_normal(\n",
    "      [size3 * size3 * depth, num_hidden], stddev=0.1))\n",
    "    layer3_biases = tf.Variable(tf.constant(1.0, shape=[num_hidden]))\n",
    "    \n",
    "    layer4_weights = tf.Variable(tf.truncated_normal([num_hidden, num_labels], stddev=0.1))\n",
    "    layer4_biases = tf.Variable(tf.constant(1.0, shape=[num_labels]))\n",
    "    \n",
    "    # Pool wrapper\n",
    "    # 0 = max_pool and 1 = avg_pool\n",
    "    def pooling(data, pool_type=0, k=2, padding_type='SAME'):\n",
    "        if pool_type == 0:\n",
    "            return tf.nn.max_pool(data, ksize=[1,k,k,1], strides=[1,k,k,1],\n",
    "                             padding=padding_type)\n",
    "        elif pool_type == 1:\n",
    "            return tf.nn.avg_pool(data, ksize=[1,k,k,1], strides=[1,k,k,1],\n",
    "                             padding=padding_type)\n",
    "    # Model.\n",
    "    def model(data, dropout_prob):\n",
    "        # C1 input 28x28 (Conv 1)\n",
    "        conv1 = tf.nn.conv2d(\n",
    "                data, layer1_weights, [1, 1, 1, 1], padding='VALID')\n",
    "        hidden1 = tf.nn.relu(conv1 + layer1_biases)\n",
    "        \n",
    "        # S2 input 24x24 (Subsampling 1)\n",
    "        pool1 = pooling(hidden1, 1, 2, 'VALID')\n",
    "        \n",
    "        # C3 input 12x12 (Conv 3)\n",
    "        conv3 = tf.nn.conv2d(\n",
    "                pool1, layer2_weights, [1, 1, 1, 1], padding='VALID')\n",
    "        hidden3 = tf.nn.relu(conv3 + layer2_biases)\n",
    "        \n",
    "        # S4 input 8x8 (Subsampling 4)\n",
    "        pool4 = pooling(hidden3, 1, 2, 'VALID')\n",
    "        \n",
    "       \n",
    "        shape = pool4.get_shape().as_list()\n",
    "        pool4_reshape = tf.reshape(\n",
    "                    pool4, [shape[0], shape[1] * shape[2] * shape[3]])\n",
    "        # C5\n",
    "        hidden5 = tf.nn.relu(\n",
    "                tf.matmul(pool4_reshape, layer3_weights) + layer3_biases)\n",
    "        \n",
    "        hidden5_dropout = tf.nn.dropout(hidden5, dropout_prob)\n",
    "        \n",
    "        # F6\n",
    "        hidden6 = tf.matmul(hidden5_dropout, layer4_weights) + layer4_biases\n",
    "        hidden6_dropout = tf.nn.dropout(hidden6, dropout_prob)\n",
    "        \n",
    "        return hidden6_dropout\n",
    "    \n",
    "  \n",
    "    \n",
    "    # Training computation.\n",
    "    logits = model(tf_train_dataset, dropout_prob)\n",
    "    loss = tf.reduce_mean(\n",
    "        tf.nn.softmax_cross_entropy_with_logits(labels=tf_train_labels,\n",
    "                                                logits=logits))\n",
    "    # L2 regularization\n",
    "    reg = tf.nn.l2_loss(layer1_weights) + tf.nn.l2_loss(layer2_weights) + \\\n",
    "            tf.nn.l2_loss(layer3_weights) + tf.nn.l2_loss(layer4_weights)\n",
    "    loss = tf.reduce_mean(loss + beta * reg)\n",
    "\n",
    "    # Optimizer using gradient descent\n",
    "    global_step = tf.Variable(0)  \n",
    "    l_rate = tf.placeholder(\"float\")\n",
    "    learning_rate = tf.train.exponential_decay(\n",
    "            l_rate, global_step, 10000, 0.95, staircase=True)\n",
    "    optimizer = tf.train.GradientDescentOptimizer(learning_rate).minimize(\n",
    "                loss, global_step= global_step)\n",
    "\n",
    "    # Predictions for the training, validation, and test data.\n",
    "    train_prediction = tf.nn.softmax(logits)\n",
    "    valid_prediction = tf.nn.softmax(model(tf_valid_dataset, 1.0))\n",
    "    test_prediction = tf.nn.softmax(model(tf_test_dataset, 1.0))"
   ]
  },
  {
   "cell_type": "code",
   "execution_count": 53,
   "metadata": {
    "colab": {
     "autoexec": {
      "startup": false,
      "wait_interval": 0
     },
     "base_uri": "https://localhost:8080/",
     "height": 777
    },
    "colab_type": "code",
    "executionInfo": {
     "elapsed": 12170,
     "status": "ok",
     "timestamp": 1533559988812,
     "user": {
      "displayName": "Mohammad Wasil",
      "photoUrl": "//lh5.googleusercontent.com/-JLhvywYz9ws/AAAAAAAAAAI/AAAAAAAAGAI/Qh1Tzhjb9Kw/s50-c-k-no/photo.jpg",
      "userId": "100717550650637687476"
     },
     "user_tz": -120
    },
    "id": "N_lZe1C6Iq_a",
    "outputId": "239f4a64-e320-43a4-ea66-919e5a50ece5"
   },
   "outputs": [
    {
     "name": "stdout",
     "output_type": "stream",
     "text": [
      "Initialized\n",
      "Minibatch loss at step 0: 5.734008\n",
      "Minibatch loss at step 200: 2.191890\n",
      "Minibatch loss at step 400: 1.865414\n",
      "Minibatch loss at step 600: 1.796216\n",
      "Minibatch loss at step 800: 1.866076\n",
      "Minibatch loss at step 1000: 1.274608\n",
      "Minibatch loss at step 1200: 1.833459\n",
      "Minibatch loss at step 1400: 1.302211\n",
      "Minibatch loss at step 1600: 1.807464\n",
      "Minibatch loss at step 1800: 1.585041\n",
      "Minibatch loss at step 2000: 1.706911\n",
      "Test accuracy: 89.2%\n"
     ]
    },
    {
     "data": {
      "image/png": "[encoded data removed]",
      "text/plain": [
       "<matplotlib.figure.Figure at 0x7fc14cf55dd8>"
      ]
     },
     "metadata": {
      "tags": []
     },
     "output_type": "display_data"
    },
    {
     "data": {
      "image/png": "[encoded data removed]",
      "text/plain": [
       "<matplotlib.figure.Figure at 0x7fc18f122828>"
      ]
     },
     "metadata": {
      "tags": []
     },
     "output_type": "display_data"
    }
   ],
   "source": [
    "num_steps = 2001\n",
    "step_info = num_steps // 10\n",
    "\n",
    "learning_rate = 0.1\n",
    "\n",
    "mini_batch_loss_list = []\n",
    "mini_batch_acc = []\n",
    "valid_acc = []\n",
    "test_acc = []\n",
    "step_list = []\n",
    "loss_list = []\n",
    "\n",
    "with tf.Session(graph=graph) as session:\n",
    "    tf.global_variables_initializer().run()\n",
    "    print('Initialized')\n",
    "    for step in range(num_steps):\n",
    "        offset = (step * batch_size) % (train_labels.shape[0] - batch_size)\n",
    "        batch_data = train_dataset[offset:(offset + batch_size), :, :, :]\n",
    "        batch_labels = train_labels[offset:(offset + batch_size), :]\n",
    "        \n",
    "        feed_dict = {tf_train_dataset : batch_data, \n",
    "                     tf_train_labels : batch_labels,\n",
    "                     l_rate : learning_rate\n",
    "                    }\n",
    "        \n",
    "        _, l, predictions = session.run(\n",
    "            [optimizer, loss, train_prediction], feed_dict=feed_dict)\n",
    "        \n",
    "        if (step % 100 == 0):\n",
    "            loss_list.append(l)\n",
    "            mini_batch_acc.append(accuracy(predictions, batch_labels))\n",
    "            #valid_acc.append(accuracy(valid_prediction.eval(), valid_labels))\n",
    "            test_acc.append(accuracy(test_prediction.eval(), test_labels))\n",
    "            step_list.append(step)\n",
    "        if (step % step_info == 0):\n",
    "            print('Minibatch loss at step %d: %f' % (step, l))\n",
    "            #print('Minibatch accuracy: %.1f%%' % accuracy(\n",
    "            #    predictions, batch_labels))\n",
    "            #print('Validation accuracy: %.1f%%' % accuracy(\n",
    "            #    valid_prediction.eval(), valid_labels))\n",
    "    print('Test accuracy: %.1f%%' % accuracy(\n",
    "           test_prediction.eval(), test_labels))\n",
    "plot_acc([mini_batch_acc, test_acc], step_list, \n",
    "         ['Mini batch accuracy', 'test accuracy'])\n",
    "plot_acc([loss_list], step_list, ['Loss'], y_label=\"Loss\")"
   ]
  },
  {
   "cell_type": "code",
   "execution_count": 0,
   "metadata": {
    "colab": {
     "autoexec": {
      "startup": false,
      "wait_interval": 0
     }
    },
    "colab_type": "code",
    "id": "yw_SJgeCIvHN"
   },
   "outputs": [],
   "source": []
  }
 ],
 "metadata": {
  "accelerator": "GPU",
  "colab": {
   "collapsed_sections": [],
   "default_view": {},
   "name": "4_convolutions.ipynb",
   "provenance": [],
   "version": "0.3.2",
   "views": {}
  },
  "kernelspec": {
   "display_name": "Python [conda env:deeplearning]",
   "language": "python",
   "name": "conda-env-deeplearning-py"
  },
  "language_info": {
   "codemirror_mode": {
    "name": "ipython",
    "version": 3
   },
   "file_extension": ".py",
   "mimetype": "text/x-python",
   "name": "python",
   "nbconvert_exporter": "python",
   "pygments_lexer": "ipython3",
   "version": "3.6.6"
  }
 },
 "nbformat": 4,
 "nbformat_minor": 1
}
