{
 "cells": [
  {
   "cell_type": "markdown",
   "metadata": {
    "colab_type": "text",
    "id": "5hIbr52I7Z7U"
   },
   "source": [
    "Deep Learning\n",
    "=============\n",
    "\n",
    "Assignment 1\n",
    "------------\n",
    "\n",
    "The objective of this assignment is to learn about simple data curation practices, and familiarize you with some of the data we'll be reusing later.\n",
    "\n",
    "This notebook uses the [notMNIST](http://yaroslavvb.blogspot.com/2011/09/notmnist-dataset.html) dataset to be used with python experiments. This dataset is designed to look like the classic [MNIST](http://yann.lecun.com/exdb/mnist/) dataset, while looking a little more like real data: it's a harder task, and the data is a lot less 'clean' than MNIST."
   ]
  },
  {
   "cell_type": "code",
   "execution_count": 3,
   "metadata": {
    "cellView": "both",
    "colab": {
     "autoexec": {
      "startup": false,
      "wait_interval": 0
     }
    },
    "colab_type": "code",
    "id": "apJbCsBHl-2A"
   },
   "outputs": [],
   "source": [
    "# These are all the modules we'll be using later. Make sure you can import them\n",
    "# before proceeding further.\n",
    "from __future__ import print_function\n",
    "import imageio\n",
    "import matplotlib.pyplot as plt\n",
    "import numpy as np\n",
    "import os\n",
    "import sys\n",
    "import tarfile\n",
    "from IPython.display import display, Image\n",
    "from sklearn.linear_model import LogisticRegression\n",
    "from six.moves.urllib.request import urlretrieve\n",
    "from six.moves import cPickle as pickle\n",
    "\n",
    "# Config the matplotlib backend as plotting inline in IPython\n",
    "%matplotlib inline"
   ]
  },
  {
   "cell_type": "markdown",
   "metadata": {
    "colab_type": "text",
    "id": "jNWGtZaXn-5j"
   },
   "source": [
    "First, we'll download the dataset to our local machine. The data consists of characters rendered in a variety of fonts on a 28x28 image. The labels are limited to 'A' through 'J' (10 classes). The training set has about 500k and the testset 19000 labeled examples. Given these sizes, it should be possible to train models quickly on any machine."
   ]
  },
  {
   "cell_type": "code",
   "execution_count": null,
   "metadata": {
    "cellView": "both",
    "colab": {
     "autoexec": {
      "startup": false,
      "wait_interval": 0
     },
     "output_extras": [
      {
       "item_id": 1
      }
     ]
    },
    "colab_type": "code",
    "executionInfo": {
     "elapsed": 186058,
     "status": "ok",
     "timestamp": 1444485672507,
     "user": {
      "color": "#1FA15D",
      "displayName": "Vincent Vanhoucke",
      "isAnonymous": false,
      "isMe": true,
      "permissionId": "05076109866853157986",
      "photoUrl": "//lh6.googleusercontent.com/-cCJa7dTDcgQ/AAAAAAAAAAI/AAAAAAAACgw/r2EZ_8oYer4/s50-c-k-no/photo.jpg",
      "sessionId": "2a0a5e044bb03b66",
      "userId": "102167687554210253930"
     },
     "user_tz": 420
    },
    "id": "EYRJ4ICW6-da",
    "outputId": "0d0f85df-155f-4a89-8e7e-ee32df36ec8d"
   },
   "outputs": [],
   "source": [
    "url = 'https://commondatastorage.googleapis.com/books1000/'\n",
    "last_percent_reported = None\n",
    "data_root = '.' # Change me to store data elsewhere\n",
    "\n",
    "def download_progress_hook(count, blockSize, totalSize):\n",
    "  \"\"\"A hook to report the progress of a download. This is mostly intended for users with\n",
    "  slow internet connections. Reports every 5% change in download progress.\n",
    "  \"\"\"\n",
    "  global last_percent_reported\n",
    "  percent = int(count * blockSize * 100 / totalSize)\n",
    "\n",
    "  if last_percent_reported != percent:\n",
    "    if percent % 5 == 0:\n",
    "      sys.stdout.write(\"%s%%\" % percent)\n",
    "      sys.stdout.flush()\n",
    "    else:\n",
    "      sys.stdout.write(\".\")\n",
    "      sys.stdout.flush()\n",
    "      \n",
    "    last_percent_reported = percent\n",
    "        \n",
    "def maybe_download(filename, expected_bytes, force=False):\n",
    "  \"\"\"Download a file if not present, and make sure it's the right size.\"\"\"\n",
    "  dest_filename = os.path.join(data_root, filename)\n",
    "  if force or not os.path.exists(dest_filename):\n",
    "    print('Attempting to download:', filename) \n",
    "    filename, _ = urlretrieve(url + filename, dest_filename, reporthook=download_progress_hook)\n",
    "    print('\\nDownload Complete!')\n",
    "  statinfo = os.stat(dest_filename)\n",
    "  if statinfo.st_size == expected_bytes:\n",
    "    print('Found and verified', dest_filename)\n",
    "  else:\n",
    "    raise Exception(\n",
    "      'Failed to verify ' + dest_filename + '. Can you get to it with a browser?')\n",
    "  return dest_filename\n",
    "\n",
    "train_filename = maybe_download('notMNIST_large.tar.gz', 247336696)\n",
    "test_filename = maybe_download('notMNIST_small.tar.gz', 8458043)"
   ]
  },
  {
   "cell_type": "markdown",
   "metadata": {
    "colab_type": "text",
    "id": "cC3p0oEyF8QT"
   },
   "source": [
    "Extract the dataset from the compressed .tar.gz file.\n",
    "This should give you a set of directories, labeled A through J."
   ]
  },
  {
   "cell_type": "code",
   "execution_count": null,
   "metadata": {
    "cellView": "both",
    "colab": {
     "autoexec": {
      "startup": false,
      "wait_interval": 0
     },
     "output_extras": [
      {
       "item_id": 1
      }
     ]
    },
    "colab_type": "code",
    "executionInfo": {
     "elapsed": 186055,
     "status": "ok",
     "timestamp": 1444485672525,
     "user": {
      "color": "#1FA15D",
      "displayName": "Vincent Vanhoucke",
      "isAnonymous": false,
      "isMe": true,
      "permissionId": "05076109866853157986",
      "photoUrl": "//lh6.googleusercontent.com/-cCJa7dTDcgQ/AAAAAAAAAAI/AAAAAAAACgw/r2EZ_8oYer4/s50-c-k-no/photo.jpg",
      "sessionId": "2a0a5e044bb03b66",
      "userId": "102167687554210253930"
     },
     "user_tz": 420
    },
    "id": "H8CBE-WZ8nmj",
    "outputId": "ef6c790c-2513-4b09-962e-27c79390c762"
   },
   "outputs": [],
   "source": [
    "num_classes = 10\n",
    "np.random.seed(133)\n",
    "\n",
    "def maybe_extract(filename, force=False):\n",
    "  root = os.path.splitext(os.path.splitext(filename)[0])[0]  # remove .tar.gz\n",
    "  if os.path.isdir(root) and not force:\n",
    "    # You may override by setting force=True.\n",
    "    print('%s already present - Skipping extraction of %s.' % (root, filename))\n",
    "  else:\n",
    "    print('Extracting data for %s. This may take a while. Please wait.' % root)\n",
    "    tar = tarfile.open(filename)\n",
    "    sys.stdout.flush()\n",
    "    tar.extractall(data_root)\n",
    "    tar.close()\n",
    "  data_folders = [\n",
    "    os.path.join(root, d) for d in sorted(os.listdir(root))\n",
    "    if os.path.isdir(os.path.join(root, d))]\n",
    "  if len(data_folders) != num_classes:\n",
    "    raise Exception(\n",
    "      'Expected %d folders, one per class. Found %d instead.' % (\n",
    "        num_classes, len(data_folders)))\n",
    "  print(data_folders)\n",
    "  return data_folders\n",
    "  \n",
    "train_folders = maybe_extract(train_filename)\n",
    "test_folders = maybe_extract(test_filename)"
   ]
  },
  {
   "cell_type": "markdown",
   "metadata": {
    "colab_type": "text",
    "id": "4riXK3IoHgx6"
   },
   "source": [
    "---\n",
    "Problem 1\n",
    "---------\n",
    "\n",
    "Let's take a peek at some of the data to make sure it looks sensible. Each exemplar should be an image of a character A through J rendered in a different font. Display a sample of the images that we just downloaded. Hint: you can use the package IPython.display.\n",
    "\n",
    "---"
   ]
  },
  {
   "cell_type": "code",
   "execution_count": null,
   "metadata": {},
   "outputs": [],
   "source": [
    "import glob"
   ]
  },
  {
   "cell_type": "code",
   "execution_count": null,
   "metadata": {},
   "outputs": [],
   "source": [
    "chars = ['A', 'B', 'C', 'D', 'E', 'F', 'G', 'H', 'I', 'J']\n",
    "train_data = {}\n",
    "test_data = {}\n",
    "for char in chars:\n",
    "    train_data[char]=glob.glob('notMNIST_large/'+ char + '/*.png')\n",
    "    test_data[char]=glob.glob('notMNIST_small/'+ char + '/*.png')"
   ]
  },
  {
   "cell_type": "code",
   "execution_count": null,
   "metadata": {},
   "outputs": [],
   "source": [
    "#show traning data samples\n",
    "for i in range(5):\n",
    "    display(Image(train_data['A'][i]))"
   ]
  },
  {
   "cell_type": "code",
   "execution_count": null,
   "metadata": {},
   "outputs": [],
   "source": [
    "#display test data samples\n",
    "for i in range(5):\n",
    "    display(Image(test_data['A'][i]))"
   ]
  },
  {
   "cell_type": "markdown",
   "metadata": {
    "colab_type": "text",
    "id": "PBdkjESPK8tw"
   },
   "source": [
    "Now let's load the data in a more manageable format. Since, depending on your computer setup you might not be able to fit it all in memory, we'll load each class into a separate dataset, store them on disk and curate them independently. Later we'll merge them into a single dataset of manageable size.\n",
    "\n",
    "We'll convert the entire dataset into a 3D array (image index, x, y) of floating point values, normalized to have approximately zero mean and standard deviation ~0.5 to make training easier down the road. \n",
    "\n",
    "A few images might not be readable, we'll just skip them."
   ]
  },
  {
   "cell_type": "code",
   "execution_count": null,
   "metadata": {
    "cellView": "both",
    "colab": {
     "autoexec": {
      "startup": false,
      "wait_interval": 0
     },
     "output_extras": [
      {
       "item_id": 30
      }
     ]
    },
    "colab_type": "code",
    "executionInfo": {
     "elapsed": 399874,
     "status": "ok",
     "timestamp": 1444485886378,
     "user": {
      "color": "#1FA15D",
      "displayName": "Vincent Vanhoucke",
      "isAnonymous": false,
      "isMe": true,
      "permissionId": "05076109866853157986",
      "photoUrl": "//lh6.googleusercontent.com/-cCJa7dTDcgQ/AAAAAAAAAAI/AAAAAAAACgw/r2EZ_8oYer4/s50-c-k-no/photo.jpg",
      "sessionId": "2a0a5e044bb03b66",
      "userId": "102167687554210253930"
     },
     "user_tz": 420
    },
    "id": "h7q0XhG3MJdf",
    "outputId": "92c391bb-86ff-431d-9ada-315568a19e59"
   },
   "outputs": [],
   "source": [
    "from scipy import ndimage\n",
    "\n",
    "image_size = 28  # Pixel width and height.\n",
    "pixel_depth = 255.0  # Number of levels per pixel.\n",
    "\n",
    "def load(data_folders, min_num_images, max_num_images):\n",
    "  dataset = np.ndarray(\n",
    "    shape=(max_num_images, image_size, image_size), dtype=np.float32)\n",
    "  labels = np.ndarray(shape=(max_num_images), dtype=np.int32)\n",
    "  label_index = 0\n",
    "  image_index = 0\n",
    "  for folder in data_folders:\n",
    "    print(folder)\n",
    "    for image in os.listdir(folder):\n",
    "      if image_index >= max_num_images:\n",
    "        raise Exception('More images than expected: %d >= %d' % (\n",
    "          image_index, max_num_images))\n",
    "      image_file = os.path.join(folder, image)\n",
    "      try:\n",
    "        image_data = (ndimage.imread(image_file).astype(float) -\n",
    "                      pixel_depth / 2) / pixel_depth\n",
    "        if image_data.shape != (image_size, image_size):\n",
    "          raise Exception('Unexpected image shape: %s' % str(image_data.shape))\n",
    "        dataset[image_index, :, :] = image_data\n",
    "        labels[image_index] = label_index\n",
    "        image_index += 1\n",
    "      except IOError as e:\n",
    "        print('Could not read:', image_file, ':', e, '- it\\'s ok, skipping.')\n",
    "    label_index += 1\n",
    "  num_images = image_index\n",
    "  dataset = dataset[0:num_images, :, :]\n",
    "  labels = labels[0:num_images]\n",
    "  if num_images < min_num_images:\n",
    "    raise Exception('Many fewer images than expected: %d < %d' % (\n",
    "        num_images, min_num_images))\n",
    "  print('Full dataset tensor:', dataset.shape)\n",
    "  print('Mean:', np.mean(dataset))\n",
    "  # uncomment this if enough memory ...\n",
    "  #print('Standard deviation:', np.std(dataset))\n",
    "  print('Labels:', labels.shape)\n",
    "  return dataset, labels\n",
    "train_dataset, train_labels = load(train_folders, 450000, 550000)\n",
    "test_dataset, test_labels = load(test_folders, 18000, 20000)"
   ]
  },
  {
   "cell_type": "markdown",
   "metadata": {},
   "source": [
    "---\n",
    "Problem 2\n",
    "---------\n",
    "\n",
    "Let's verify that the data still looks good. Displaying a sample of the labels and images from the ndarray. Hint: you can use matplotlib.pyplot.\n",
    "\n",
    "---\n",
    "\n",
    "---\n",
    "Problem 3\n",
    "---------\n",
    "Another check: we expect the data to be balanced across classes. Verify that.\n",
    "\n",
    "---\n",
    "Merge and prune the training data as needed. Depending on your computer setup, you might not be able to fit it all in memory, and you can tune `train_size` as needed. The labels will be stored into a separate array of integers 0 through 9.\n",
    "\n",
    "Also create a validation dataset for hyperparameter tuning.\n",
    "\n",
    "Next, we'll randomize the data. It's important to have the labels well shuffled for the training and test distributions to match."
   ]
  },
  {
   "cell_type": "code",
   "execution_count": null,
   "metadata": {},
   "outputs": [],
   "source": [
    "def plot_two_imgs(img1, img2, img1_title, img2_title):\n",
    "    fig = plt.figure()\n",
    "    fig.add_subplot(121)\n",
    "    image1 = np.reshape(img1, (28, 28)) * 255\n",
    "    plt.imshow(image1, cmap= plt.cm.binary)\n",
    "    plt.title(img1_title)\n",
    "    fig.add_subplot(122)\n",
    "    adversarial = np.reshape(img2, (28, 28)) * 255\n",
    "    plt.imshow(adversarial, cmap= plt.cm.binary)\n",
    "    plt.title(img2_title)\n",
    "    plt.tight_layout()\n",
    "    plt.show()\n",
    "\n",
    "def plot_one_img(img):\n",
    "    fig = plt.figure()\n",
    "    fig.add_subplot(121)\n",
    "    image1 = np.reshape(img, (28, 28)) * 255\n",
    "    plt.imshow(image1, cmap= plt.cm.binary)"
   ]
  },
  {
   "cell_type": "code",
   "execution_count": null,
   "metadata": {},
   "outputs": [],
   "source": [
    "#use 20% of the train dataset as validation\n",
    "curr = 0\n",
    "\n",
    "train_dataset_size = []\n",
    "train_set_size = []\n",
    "valid_set_size = []\n",
    "\n",
    "max_indv_train_size = 52908\n",
    "max_indv_valid_size = int(0.2 * len(train_labels) / 10)\n",
    "max_indv_train_size_new = max_indv_train_size - max_indv_valid_size\n",
    "\n",
    "valid_count = 0\n",
    "validation_set = []\n",
    "\n",
    "validation_dataset = []\n",
    "validation_labels = []\n",
    "train_dataset_new = []\n",
    "train_label_new = []\n",
    "\n",
    "train_dataset_tmp = []\n",
    "train_label_tmp = []\n",
    "\n",
    "flag = False\n",
    "\n",
    "count_for_last_img = 0\n",
    "\n",
    "for i in range(len(train_labels)):\n",
    "    \n",
    "    if train_labels[i] != int(curr) or count_for_last_img == max_indv_train_size:\n",
    "\n",
    "        plot_two_imgs(train_dataset[i-1],train_dataset[i],str(curr),str(train_labels[i]))\n",
    "        \n",
    "        if curr == 0:\n",
    "            train_dataset_size.append(i-1)\n",
    "        else:\n",
    "            train_dataset_size.append(i-sum(train_set_size))\n",
    "\n",
    "        curr = train_labels[i]\n",
    "    \n",
    "        #Update validation set and new training dataset\n",
    "        train_dataset_tmp = np.asarray(train_dataset_tmp)\n",
    "        train_label_tmp = np.asarray(train_label_tmp)\n",
    "\n",
    "        _valid_dataset = train_dataset_tmp[:max_indv_valid_size, :, :]\n",
    "        _valid_labels = train_label_tmp[:max_indv_valid_size]\n",
    "        \n",
    "        _train_dataset = train_dataset_tmp[max_indv_valid_size : max_indv_valid_size+max_indv_train_size, :, :]\n",
    "        _train_labels = train_label_tmp[max_indv_valid_size : max_indv_valid_size+max_indv_train_size]\n",
    "        \n",
    "        #set the same train set size across all classes\n",
    "        _train_dataset = _train_dataset[:max_indv_train_size_new, :, :]\n",
    "        _train_labels = _train_labels[:max_indv_train_size_new]\n",
    "        \n",
    "        train_set_size.append(len(_train_labels))\n",
    "        valid_set_size.append(len(_valid_dataset))\n",
    "        if curr < 9:\n",
    "            print(\"Train \", curr-1, \" = \", len(_train_labels))\n",
    "            print(\"Validation \", curr-1, \" = \", len(_valid_labels))\n",
    "        elif curr == 9:\n",
    "            print(\"Train \", curr, \" = \", len(_train_labels))\n",
    "            print(\"Validation \", curr, \" = \", len(_valid_labels))\n",
    "            \n",
    "        validation_dataset.extend(_valid_dataset)\n",
    "        validation_labels.extend(_valid_labels)\n",
    "        \n",
    "        train_dataset_new.extend(_train_dataset)\n",
    "        train_label_new.extend(_train_labels)\n",
    "\n",
    "        train_dataset_tmp = []\n",
    "        train_label_tmp = []\n",
    "        \n",
    "        if count_for_last_img == max_indv_train_size:\n",
    "            break\n",
    "        \n",
    "    elif train_labels[i] == int(curr) or (i-sum(train_set_size) <= max_indv_train_size):\n",
    "        train_dataset_tmp.append(train_dataset[i])\n",
    "        train_label_tmp.append(train_labels[i])\n",
    "        if curr == 9:\n",
    "            count_for_last_img += 1\n",
    "            \n",
    "print(\"All train dataset\" ,train_dataset_size)\n",
    "print(\"Selected train set\", train_set_size)\n",
    "print(\"Validation set\", valid_set_size)"
   ]
  },
  {
   "cell_type": "code",
   "execution_count": null,
   "metadata": {},
   "outputs": [],
   "source": []
  },
  {
   "cell_type": "markdown",
   "metadata": {
    "colab_type": "text",
    "id": "cYznx5jUwzoO"
   },
   "source": [
    "# Randomized all the dataset"
   ]
  },
  {
   "cell_type": "code",
   "execution_count": null,
   "metadata": {},
   "outputs": [],
   "source": [
    "def randomize(dataset, labels):\n",
    "    permutation = np.random.permutation(labels.shape[0])\n",
    "    shuffled_dataset = dataset[permutation,:,:]\n",
    "    shuffled_labels = labels[permutation]\n",
    "    return shuffled_dataset, shuffled_labels\n",
    "\n",
    "train_dataset_new = np.asarray(train_dataset_new)\n",
    "train_label_new = np.asarray(train_label_new)\n",
    "validation_dataset = np.asarray(validation_dataset)\n",
    "validation_labels = np.asarray(validation_labels)\n",
    "test_dataset = np.asarray(test_dataset)\n",
    "test_labels = np.asarray(test_labels)\n",
    "\n",
    "train_dataset_new, train_label_new = randomize(train_dataset_new, train_label_new)\n",
    "validation_dataset, validation_labels = randomize(validation_dataset, validation_labels)\n",
    "test_dataset, test_labels = randomize(test_dataset, test_labels)\n",
    "\n",
    "print(\"Train dataset: \", train_dataset_new.shape, \", label: \", train_label_new.shape)\n",
    "print(\"Validation dataset: \", validation_dataset.shape, \", label: \", validation_labels.shape)\n",
    "print(\"Test dataset: \", test_dataset.shape, \", label: \", test_labels.shape)"
   ]
  },
  {
   "cell_type": "code",
   "execution_count": null,
   "metadata": {
    "colab_type": "text",
    "id": "LA7M7K22ynCt"
   },
   "outputs": [],
   "source": []
  },
  {
   "cell_type": "markdown",
   "metadata": {
    "colab_type": "text",
    "id": "puDUTe6t6USl"
   },
   "source": [
    "---\n",
    "Problem 4\n",
    "---------\n",
    "Convince yourself that the data is still good after shuffling!\n",
    "\n",
    "---"
   ]
  },
  {
   "cell_type": "code",
   "execution_count": null,
   "metadata": {},
   "outputs": [],
   "source": [
    "#Check the dataset by plotting\n",
    "plot_one_img(train_dataset_new[50110])\n",
    "plot_one_img(validation_dataset[90010])\n",
    "plot_one_img(test_dataset[10000])"
   ]
  },
  {
   "cell_type": "markdown",
   "metadata": {
    "colab_type": "text",
    "id": "tIQJaJuwg5Hw"
   },
   "source": [
    "Finally, let's save the data for later reuse:"
   ]
  },
  {
   "cell_type": "code",
   "execution_count": null,
   "metadata": {
    "cellView": "both",
    "colab": {
     "autoexec": {
      "startup": false,
      "wait_interval": 0
     }
    },
    "colab_type": "code",
    "id": "QiR_rETzem6C"
   },
   "outputs": [],
   "source": [
    "pickle_file = os.path.join(data_root, 'notMNIST_dataset.pickle')\n",
    "\n",
    "try:\n",
    "    f = open(pickle_file, 'wb')\n",
    "    save = {\n",
    "        'train_dataset': train_dataset_new,\n",
    "        'train_labels': train_label_new,\n",
    "        'valid_dataset': validation_dataset,\n",
    "        'valid_labels': validation_labels,\n",
    "        'test_dataset': test_dataset,\n",
    "        'test_labels': test_labels,\n",
    "    }\n",
    "    pickle.dump(save, f, pickle.HIGHEST_PROTOCOL)\n",
    "    f.close()\n",
    "except Exception as e:\n",
    "    print('Unable to save data to', pickle_file, ':', e)\n",
    "    raise"
   ]
  },
  {
   "cell_type": "code",
   "execution_count": null,
   "metadata": {
    "cellView": "both",
    "colab": {
     "autoexec": {
      "startup": false,
      "wait_interval": 0
     },
     "output_extras": [
      {
       "item_id": 1
      }
     ]
    },
    "colab_type": "code",
    "executionInfo": {
     "elapsed": 413065,
     "status": "ok",
     "timestamp": 1444485899688,
     "user": {
      "color": "#1FA15D",
      "displayName": "Vincent Vanhoucke",
      "isAnonymous": false,
      "isMe": true,
      "permissionId": "05076109866853157986",
      "photoUrl": "//lh6.googleusercontent.com/-cCJa7dTDcgQ/AAAAAAAAAAI/AAAAAAAACgw/r2EZ_8oYer4/s50-c-k-no/photo.jpg",
      "sessionId": "2a0a5e044bb03b66",
      "userId": "102167687554210253930"
     },
     "user_tz": 420
    },
    "id": "hQbLjrW_iT39",
    "outputId": "b440efc6-5ee1-4cbc-d02d-93db44ebd956"
   },
   "outputs": [],
   "source": [
    "statinfo = os.stat(pickle_file)\n",
    "print('Compressed pickle size:', statinfo.st_size)"
   ]
  },
  {
   "cell_type": "markdown",
   "metadata": {
    "colab_type": "text",
    "id": "gE_cRAQB33lk"
   },
   "source": [
    "---\n",
    "Problem 5\n",
    "---------\n",
    "\n",
    "By construction, this dataset might contain a lot of overlapping samples, including training data that's also contained in the validation and test set! Overlap between training and test can skew the results if you expect to use your model in an environment where there is never an overlap, but are actually ok if you expect to see training samples recur when you use it.\n",
    "Measure how much overlap there is between training, validation and test samples.\n",
    "\n",
    "Optional questions:\n",
    "- What about near duplicates between datasets? (images that are almost identical)\n",
    "- Create a sanitized validation and test set, and compare your accuracy on those in subsequent assignments.\n",
    "---"
   ]
  },
  {
   "cell_type": "code",
   "execution_count": null,
   "metadata": {},
   "outputs": [],
   "source": [
    "# measure how much overlap there is between training, validation and test samples\n",
    "set_valid_dataset = set([hash(str(x)) for x in valid_dataset])\n",
    "set_test_dataset = set([hash(str(x)) for x in test_dataset])\n",
    "set_train_dataset = set([hash(str(x)) for x in train_dataset])"
   ]
  },
  {
   "cell_type": "code",
   "execution_count": null,
   "metadata": {},
   "outputs": [],
   "source": [
    "print ('valid data set: ' + str(len(valid_dataset)) + ' set: ' + str(len(set_valid_dataset)))\n",
    "print ('test data set: ' + str(len(test_dataset)) + ' set: ' + str(len(set_test_dataset)))\n",
    "print ('train data set: ' + str(len(train_dataset)) + ' set: ' + str(len(set_train_dataset)))\n"
   ]
  },
  {
   "cell_type": "code",
   "execution_count": null,
   "metadata": {},
   "outputs": [],
   "source": [
    "overlap_test_valid = set_test_dataset - set_valid_dataset\n",
    "print ('overlap test valid: ' + str(len(overlap_test_valid)))\n",
    "\n",
    "overlap_train_valid = set_train_dataset - set_valid_dataset\n",
    "print ('overlap train valid: ' + str(len(overlap_train_valid)))\n",
    "\n",
    "overlap_train_test = set_train_dataset - set_test_dataset\n",
    "print ('overlap train test: ' + str(len(overlap_train_test)))\n"
   ]
  },
  {
   "cell_type": "code",
   "execution_count": null,
   "metadata": {},
   "outputs": [],
   "source": []
  },
  {
   "cell_type": "markdown",
   "metadata": {
    "colab_type": "text",
    "id": "L8oww1s4JMQx"
   },
   "source": [
    "---\n",
    "Problem 6\n",
    "---------\n",
    "\n",
    "Let's get an idea of what an off-the-shelf classifier can give you on this data. It's always good to check that there is something to learn, and that it's a problem that is not so trivial that a canned solution solves it.\n",
    "\n",
    "Train a simple model on this data using 50, 100, 1000 and 5000 training samples. Hint: you can use the LogisticRegression model from sklearn.linear_model.\n",
    "\n",
    "Optional question: train an off-the-shelf model on all the data!\n",
    "\n",
    "---"
   ]
  },
  {
   "cell_type": "code",
   "execution_count": 4,
   "metadata": {},
   "outputs": [],
   "source": [
    "#load the pickle file\n",
    "pickle_in = open(\"notMNIST.pickle\",\"rb\")\n",
    "dataset_dict = pickle.load(pickle_in)\n",
    "train_dataset = dataset_dict.get('train_dataset')\n",
    "train_labels = dataset_dict.get('train_labels')\n",
    "valid_dataset = dataset_dict.get('valid_dataset')\n",
    "valid_labels = dataset_dict.get('valid_labels')\n",
    "test_dataset = dataset_dict.get('test_dataset')\n",
    "test_labels = dataset_dict.get('test_labels')"
   ]
  },
  {
   "cell_type": "code",
   "execution_count": 5,
   "metadata": {},
   "outputs": [],
   "source": [
    "from sklearn.linear_model import LinearRegression\n",
    "from sklearn.linear_model import LogisticRegressionCV"
   ]
  },
  {
   "cell_type": "code",
   "execution_count": 6,
   "metadata": {},
   "outputs": [],
   "source": [
    "log_reg = LogisticRegression()"
   ]
  },
  {
   "cell_type": "code",
   "execution_count": 7,
   "metadata": {},
   "outputs": [],
   "source": [
    "#All train dataset\n",
    "log_reg = LogisticRegression()\n",
    "def train(train_dataset, train_labels, sample_size):\n",
    "    X_train = train_dataset[:sample_size].reshape(sample_size, 784)\n",
    "    y_train = train_labels[:sample_size]\n",
    "    %time log_reg.fit(X_train, y_train)\n",
    "    return log_reg\n",
    "\n",
    "def test(model, test_dataset, test_labels):\n",
    "    X_test = test_dataset.reshape(test_dataset.shape[0], 784)\n",
    "    print(model.score(X_test, test_labels))"
   ]
  },
  {
   "cell_type": "code",
   "execution_count": 8,
   "metadata": {},
   "outputs": [
    {
     "name": "stdout",
     "output_type": "stream",
     "text": [
      "CPU times: user 63.3 ms, sys: 3.61 ms, total: 67 ms\n",
      "Wall time: 67 ms\n",
      "Validation Accuracy for 50  training size model:\n",
      "0.762\n",
      "Test Accuracy for 50  training size model:\n",
      "0.6069750053407391\n",
      "=========================\n",
      "CPU times: user 269 ms, sys: 2.5 ms, total: 272 ms\n",
      "Wall time: 144 ms\n",
      "Validation Accuracy for 100  training size model:\n",
      "0.745\n",
      "Test Accuracy for 100  training size model:\n",
      "0.6979812005981628\n",
      "=========================\n",
      "CPU times: user 3.46 s, sys: 9.31 ms, total: 3.47 s\n",
      "Wall time: 3.29 s\n",
      "Validation Accuracy for 1000  training size model:\n",
      "0.79\n",
      "Test Accuracy for 1000  training size model:\n",
      "0.8304849391155736\n",
      "=========================\n",
      "CPU times: user 32.8 s, sys: 76.3 ms, total: 32.9 s\n",
      "Wall time: 32.9 s\n",
      "Validation Accuracy for 5000  training size model:\n",
      "0.78\n",
      "Test Accuracy for 5000  training size model:\n",
      "0.8486968596453749\n",
      "=========================\n"
     ]
    }
   ],
   "source": [
    "#train some models with different training sizes\n",
    "for size in [50,100,1000,5000]:\n",
    "    model = train(train_dataset, train_labels, size)\n",
    "    print (\"Validation Accuracy for\",size,\" training size model:\")\n",
    "    test(model, valid_dataset, valid_labels)\n",
    "    print (\"Test Accuracy for\",size,\" training size model:\")\n",
    "    test(model, test_dataset, test_labels)\n",
    "    print(\"=========================\")"
   ]
  },
  {
   "cell_type": "code",
   "execution_count": null,
   "metadata": {},
   "outputs": [],
   "source": []
  },
  {
   "cell_type": "code",
   "execution_count": null,
   "metadata": {},
   "outputs": [],
   "source": []
  }
 ],
 "metadata": {
  "colab": {
   "default_view": {},
   "name": "1_notmnist.ipynb",
   "provenance": [],
   "version": "0.3.2",
   "views": {}
  },
  "kernelspec": {
   "display_name": "Python [conda env:deeplearning]",
   "language": "python",
   "name": "conda-env-deeplearning-py"
  },
  "language_info": {
   "codemirror_mode": {
    "name": "ipython",
    "version": 3
   },
   "file_extension": ".py",
   "mimetype": "text/x-python",
   "name": "python",
   "nbconvert_exporter": "python",
   "pygments_lexer": "ipython3",
   "version": "3.6.6"
  }
 },
 "nbformat": 4,
 "nbformat_minor": 1
}
